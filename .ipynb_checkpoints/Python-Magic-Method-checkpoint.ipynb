{
 "cells": [
  {
   "cell_type": "markdown",
   "metadata": {},
   "source": [
    "# Create French Deck Cards"
   ]
  },
  {
   "cell_type": "code",
   "execution_count": 27,
   "metadata": {},
   "outputs": [],
   "source": [
    "import collections\n",
    "\n",
    "# We can use namedtuple to build classes of objects \n",
    "# that are just bundles of attributes with no custom methods, like a database record.\n",
    "Card = collections.namedtuple('Card',['rank', 'suit'])\n",
    "\n",
    "class FrenchDeck:\n",
    "    ranks = [str(x) for x in range(2,11)] + list('JQKA')\n",
    "    suits =  'spades diamonds clubs hearts'.split()\n",
    "    \n",
    "    def __init__(self):\n",
    "        self._cards = [ Card(rank, suit) for suit in self.suits for rank in self.ranks]\n",
    "        \n",
    "    def __len__(self):\n",
    "        return len(self._cards)\n",
    "    \n",
    "    # __getitem__ delegates to the [] operator of self._cards, so it supports slicing\n",
    "    def __getitem__(self, position):\n",
    "        return self._cards[position]"
   ]
  },
  {
   "cell_type": "code",
   "execution_count": 28,
   "metadata": {},
   "outputs": [
    {
     "name": "stdout",
     "output_type": "stream",
     "text": [
      "Card(rank='7', suit='diamonds')\n"
     ]
    }
   ],
   "source": [
    "beer_card = Card('7', 'diamonds')\n",
    "print(beer_card)"
   ]
  },
  {
   "cell_type": "code",
   "execution_count": 29,
   "metadata": {},
   "outputs": [
    {
     "name": "stdout",
     "output_type": "stream",
     "text": [
      "52\n"
     ]
    }
   ],
   "source": [
    "deck = FrenchDeck()\n",
    "print(len(deck))"
   ]
  },
  {
   "cell_type": "code",
   "execution_count": 47,
   "metadata": {},
   "outputs": [
    {
     "name": "stdout",
     "output_type": "stream",
     "text": [
      "Pick a sepcific card:\n",
      "\n",
      "Card(rank='2', suit='spades')\n",
      "Card(rank='3', suit='spades')\n",
      "Card(rank='A', suit='hearts')\n",
      "\n",
      "Randomly pick a card we get:\n",
      "\n",
      "Card(rank='4', suit='diamonds')\n",
      "Card(rank='7', suit='diamonds')\n",
      "\n",
      "Slicing the card deck yields:\n",
      "\n",
      "[Card(rank='2', suit='spades'), Card(rank='3', suit='spades'), Card(rank='4', suit='spades')]\n",
      "[Card(rank='7', suit='spades')]\n",
      "\n",
      "The dunder getitem also allows us to traverse over the deck:\n",
      "Note: stop over showing 10 cards due to memory restriction.\n",
      "\n",
      "Card(rank='A', suit='hearts')\n",
      "Card(rank='K', suit='hearts')\n",
      "Card(rank='Q', suit='hearts')\n",
      "Card(rank='J', suit='hearts')\n",
      "Card(rank='10', suit='hearts')\n",
      "Card(rank='9', suit='hearts')\n",
      "Card(rank='8', suit='hearts')\n",
      "Card(rank='7', suit='hearts')\n",
      "Card(rank='6', suit='hearts')\n",
      "Card(rank='5', suit='hearts')\n",
      "Card(rank='4', suit='hearts')\n"
     ]
    }
   ],
   "source": [
    "from random import choice\n",
    "## The dunder getitem provides an easy way to get a card by indexing\n",
    "print('Pick a sepcific card:\\n')\n",
    "print(deck[0]) \n",
    "print(deck[1])\n",
    "print(deck[-1])\n",
    "print()\n",
    "print('Randomly pick a card we get:\\n')\n",
    "print(choice(deck))\n",
    "print(choice(deck))\n",
    "print()\n",
    "print('Slicing the card deck yields:\\n')\n",
    "print(deck[:3])\n",
    "print(deck[5:6])\n",
    "print()\n",
    "print('The dunder getitem also allows us to traverse over the deck:')\n",
    "print('Note: stop over showing 10 cards due to memory restriction.\\n')\n",
    "counter = 0\n",
    "for card in reversed(deck):\n",
    "    print(card)\n",
    "    counter +=1\n",
    "    if counter > 10:\n",
    "        break"
   ]
  },
  {
   "cell_type": "code",
   "execution_count": null,
   "metadata": {},
   "outputs": [],
   "source": [
    "import math\n",
    "\n",
    "class Vector:\n",
    "    \n",
    "    def __init__(self, x=0, y=0):\n",
    "        self.x = x\n",
    "        self.y = y\n",
    "    # get the string representation of the object for inspection\n",
    "    # If we did not implement __repr__, \n",
    "    # vector instances would be shown in the console like <Vector object at 0x10e100070>.\n",
    "    def __repr__(self):\n",
    "        return f'Vector({self.x!r}, {self.y!r})'\n",
    "\n",
    "    def __abs__(self):\n",
    "        return math.hypot(self.x, self.y)\n",
    "\n",
    "    def __bool__(self):\n",
    "        return bool(abs(self))\n",
    "\n",
    "    def __add__(self, other):\n",
    "        x = self.x + other.x\n",
    "        y = self.y + other.y\n",
    "        return Vector(x, y)\n",
    "\n",
    "    def __mul__(self, scalar):\n",
    "        return Vector(self.x * scalar, self.y * scalar)"
   ]
  }
 ],
 "metadata": {
  "kernelspec": {
   "display_name": "Python 3",
   "language": "python",
   "name": "python3"
  },
  "language_info": {
   "codemirror_mode": {
    "name": "ipython",
    "version": 3
   },
   "file_extension": ".py",
   "mimetype": "text/x-python",
   "name": "python",
   "nbconvert_exporter": "python",
   "pygments_lexer": "ipython3",
   "version": "3.7.6"
  }
 },
 "nbformat": 4,
 "nbformat_minor": 4
}
